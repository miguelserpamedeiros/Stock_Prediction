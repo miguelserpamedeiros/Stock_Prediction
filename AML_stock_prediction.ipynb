{
  "nbformat": 4,
  "nbformat_minor": 0,
  "metadata": {
    "colab": {
      "provenance": []
    },
    "kernelspec": {
      "name": "python3",
      "display_name": "Python 3"
    },
    "language_info": {
      "name": "python"
    }
  },
  "cells": [
    {
      "cell_type": "code",
      "execution_count": 102,
      "metadata": {
        "id": "FjrS76Fv49e9"
      },
      "outputs": [],
      "source": [
        "import pandas as np\n",
        "import numpy as np\n",
        "import matplotlib.pyplot as plt\n",
        "import seaborn as sns\n",
        "from pandas_datareader.data import DataReader\n",
        "import yfinance as yf\n",
        "import pandas as pd\n",
        "from pandas_datareader import data as pdr\n",
        "from datetime import datetime\n",
        "import numpy as np\n",
        "import pandas as pd\n",
        "from tensorflow.keras.models import Sequential\n",
        "from tensorflow.keras.layers import LSTM, Dense, Dropout\n",
        "from tensorflow.keras.optimizers import Adam\n",
        "from sklearn.preprocessing import MinMaxScaler\n",
        "from sklearn.utils.class_weight import compute_class_weight\n",
        "from sklearn.metrics import mean_absolute_error, mean_squared_error\n",
        "from keras.models import Sequential\n",
        "from keras.layers import LSTM, Bidirectional, Dense, Dropout\n",
        "from keras.optimizers import Adam\n",
        "import numpy as np\n",
        "import pandas as pd\n",
        "from sklearn.preprocessing import MinMaxScaler\n"
      ]
    },
    {
      "cell_type": "markdown",
      "source": [
        "# S&P500 stocks IDs\n"
      ],
      "metadata": {
        "id": "7Kxj81yuSXtJ"
      }
    },
    {
      "cell_type": "code",
      "source": [
        "\n",
        "url = \"https://en.wikipedia.org/wiki/List_of_S%26P_500_companies\"\n",
        "sp500_table = pd.read_html(url)[0]\n",
        "tickers = sp500_table['Symbol'].tolist()\n",
        "\n",
        "print(tickers)"
      ],
      "metadata": {
        "colab": {
          "base_uri": "https://localhost:8080/"
        },
        "id": "CT0il24j6ck7",
        "outputId": "0caa6e5c-d485-44d8-98fb-78c8256be18a"
      },
      "execution_count": 103,
      "outputs": [
        {
          "output_type": "stream",
          "name": "stdout",
          "text": [
            "['MMM', 'AOS', 'ABT', 'ABBV', 'ACN', 'ADBE', 'AMD', 'AES', 'AFL', 'A', 'APD', 'ABNB', 'AKAM', 'ALB', 'ARE', 'ALGN', 'ALLE', 'LNT', 'ALL', 'GOOGL', 'GOOG', 'MO', 'AMZN', 'AMCR', 'AEE', 'AEP', 'AXP', 'AIG', 'AMT', 'AWK', 'AMP', 'AME', 'AMGN', 'APH', 'ADI', 'ANSS', 'AON', 'APA', 'APO', 'AAPL', 'AMAT', 'APTV', 'ACGL', 'ADM', 'ANET', 'AJG', 'AIZ', 'T', 'ATO', 'ADSK', 'ADP', 'AZO', 'AVB', 'AVY', 'AXON', 'BKR', 'BALL', 'BAC', 'BAX', 'BDX', 'BRK.B', 'BBY', 'TECH', 'BIIB', 'BLK', 'BX', 'BK', 'BA', 'BKNG', 'BSX', 'BMY', 'AVGO', 'BR', 'BRO', 'BF.B', 'BLDR', 'BG', 'BXP', 'CHRW', 'CDNS', 'CZR', 'CPT', 'CPB', 'COF', 'CAH', 'KMX', 'CCL', 'CARR', 'CAT', 'CBOE', 'CBRE', 'CDW', 'COR', 'CNC', 'CNP', 'CF', 'CRL', 'SCHW', 'CHTR', 'CVX', 'CMG', 'CB', 'CHD', 'CI', 'CINF', 'CTAS', 'CSCO', 'C', 'CFG', 'CLX', 'CME', 'CMS', 'KO', 'CTSH', 'CL', 'CMCSA', 'CAG', 'COP', 'ED', 'STZ', 'CEG', 'COO', 'CPRT', 'GLW', 'CPAY', 'CTVA', 'CSGP', 'COST', 'CTRA', 'CRWD', 'CCI', 'CSX', 'CMI', 'CVS', 'DHR', 'DRI', 'DVA', 'DAY', 'DECK', 'DE', 'DELL', 'DAL', 'DVN', 'DXCM', 'FANG', 'DLR', 'DFS', 'DG', 'DLTR', 'D', 'DPZ', 'DASH', 'DOV', 'DOW', 'DHI', 'DTE', 'DUK', 'DD', 'EMN', 'ETN', 'EBAY', 'ECL', 'EIX', 'EW', 'EA', 'ELV', 'EMR', 'ENPH', 'ETR', 'EOG', 'EPAM', 'EQT', 'EFX', 'EQIX', 'EQR', 'ERIE', 'ESS', 'EL', 'EG', 'EVRG', 'ES', 'EXC', 'EXE', 'EXPE', 'EXPD', 'EXR', 'XOM', 'FFIV', 'FDS', 'FICO', 'FAST', 'FRT', 'FDX', 'FIS', 'FITB', 'FSLR', 'FE', 'FI', 'F', 'FTNT', 'FTV', 'FOXA', 'FOX', 'BEN', 'FCX', 'GRMN', 'IT', 'GE', 'GEHC', 'GEV', 'GEN', 'GNRC', 'GD', 'GIS', 'GM', 'GPC', 'GILD', 'GPN', 'GL', 'GDDY', 'GS', 'HAL', 'HIG', 'HAS', 'HCA', 'DOC', 'HSIC', 'HSY', 'HES', 'HPE', 'HLT', 'HOLX', 'HD', 'HON', 'HRL', 'HST', 'HWM', 'HPQ', 'HUBB', 'HUM', 'HBAN', 'HII', 'IBM', 'IEX', 'IDXX', 'ITW', 'INCY', 'IR', 'PODD', 'INTC', 'ICE', 'IFF', 'IP', 'IPG', 'INTU', 'ISRG', 'IVZ', 'INVH', 'IQV', 'IRM', 'JBHT', 'JBL', 'JKHY', 'J', 'JNJ', 'JCI', 'JPM', 'JNPR', 'K', 'KVUE', 'KDP', 'KEY', 'KEYS', 'KMB', 'KIM', 'KMI', 'KKR', 'KLAC', 'KHC', 'KR', 'LHX', 'LH', 'LRCX', 'LW', 'LVS', 'LDOS', 'LEN', 'LII', 'LLY', 'LIN', 'LYV', 'LKQ', 'LMT', 'L', 'LOW', 'LULU', 'LYB', 'MTB', 'MPC', 'MKTX', 'MAR', 'MMC', 'MLM', 'MAS', 'MA', 'MTCH', 'MKC', 'MCD', 'MCK', 'MDT', 'MRK', 'META', 'MET', 'MTD', 'MGM', 'MCHP', 'MU', 'MSFT', 'MAA', 'MRNA', 'MHK', 'MOH', 'TAP', 'MDLZ', 'MPWR', 'MNST', 'MCO', 'MS', 'MOS', 'MSI', 'MSCI', 'NDAQ', 'NTAP', 'NFLX', 'NEM', 'NWSA', 'NWS', 'NEE', 'NKE', 'NI', 'NDSN', 'NSC', 'NTRS', 'NOC', 'NCLH', 'NRG', 'NUE', 'NVDA', 'NVR', 'NXPI', 'ORLY', 'OXY', 'ODFL', 'OMC', 'ON', 'OKE', 'ORCL', 'OTIS', 'PCAR', 'PKG', 'PLTR', 'PANW', 'PARA', 'PH', 'PAYX', 'PAYC', 'PYPL', 'PNR', 'PEP', 'PFE', 'PCG', 'PM', 'PSX', 'PNW', 'PNC', 'POOL', 'PPG', 'PPL', 'PFG', 'PG', 'PGR', 'PLD', 'PRU', 'PEG', 'PTC', 'PSA', 'PHM', 'PWR', 'QCOM', 'DGX', 'RL', 'RJF', 'RTX', 'O', 'REG', 'REGN', 'RF', 'RSG', 'RMD', 'RVTY', 'ROK', 'ROL', 'ROP', 'ROST', 'RCL', 'SPGI', 'CRM', 'SBAC', 'SLB', 'STX', 'SRE', 'NOW', 'SHW', 'SPG', 'SWKS', 'SJM', 'SW', 'SNA', 'SOLV', 'SO', 'LUV', 'SWK', 'SBUX', 'STT', 'STLD', 'STE', 'SYK', 'SMCI', 'SYF', 'SNPS', 'SYY', 'TMUS', 'TROW', 'TTWO', 'TPR', 'TRGP', 'TGT', 'TEL', 'TDY', 'TER', 'TSLA', 'TXN', 'TPL', 'TXT', 'TMO', 'TJX', 'TKO', 'TSCO', 'TT', 'TDG', 'TRV', 'TRMB', 'TFC', 'TYL', 'TSN', 'USB', 'UBER', 'UDR', 'ULTA', 'UNP', 'UAL', 'UPS', 'URI', 'UNH', 'UHS', 'VLO', 'VTR', 'VLTO', 'VRSN', 'VRSK', 'VZ', 'VRTX', 'VTRS', 'VICI', 'V', 'VST', 'VMC', 'WRB', 'GWW', 'WAB', 'WBA', 'WMT', 'DIS', 'WBD', 'WM', 'WAT', 'WEC', 'WFC', 'WELL', 'WST', 'WDC', 'WY', 'WSM', 'WMB', 'WTW', 'WDAY', 'WYNN', 'XEL', 'XYL', 'YUM', 'ZBRA', 'ZBH', 'ZTS']\n"
          ]
        }
      ]
    },
    {
      "cell_type": "markdown",
      "source": [
        "# Data for the S&P500 stocks"
      ],
      "metadata": {
        "id": "F-YUvghOSnkx"
      }
    },
    {
      "cell_type": "code",
      "source": [
        "\n",
        "# 1. Get the list of S&P 500 tickers\n",
        "url = \"https://en.wikipedia.org/wiki/List_of_S%26P_500_companies\"\n",
        "sp500_table = pd.read_html(url)[0]\n",
        "tickers = sp500_table['Symbol'].tolist()\n",
        "tickers.remove('BRK.B') #try renaming\n",
        "tickers.remove('BF.B')\n",
        "# 2. Download historical stock price and volume data\n",
        "data = yf.download(tickers, start=\"2010-01-01\", end=pd.Timestamp.today(), group_by='ticker', threads=True)\n"
      ],
      "metadata": {
        "colab": {
          "base_uri": "https://localhost:8080/"
        },
        "id": "tb3g2-Tr665-",
        "outputId": "2c7bc896-c5d1-4fa0-a425-4d2a29eeb6fd"
      },
      "execution_count": 104,
      "outputs": [
        {
          "output_type": "stream",
          "name": "stderr",
          "text": [
            "[*********************100%***********************]  501 of 501 completed\n"
          ]
        }
      ]
    },
    {
      "cell_type": "code",
      "source": [
        "data.head()"
      ],
      "metadata": {
        "colab": {
          "base_uri": "https://localhost:8080/",
          "height": 298
        },
        "id": "xkCNsp9yHFNY",
        "outputId": "c6fdf858-2289-4841-fe7c-a3419bafe660"
      },
      "execution_count": 105,
      "outputs": [
        {
          "output_type": "execute_result",
          "data": {
            "text/plain": [
              "Ticker           EQIX                                                 ROL  \\\n",
              "Price            Open       High        Low      Close   Volume      Open   \n",
              "Date                                                                        \n",
              "2010-01-04  80.555491  82.899863  80.547933  82.854485   576300  3.075067   \n",
              "2010-01-05  82.877133  82.877133  81.962074  82.083076   681900  3.113109   \n",
              "2010-01-06  82.393185  83.618308  81.841127  82.831810  1397500  3.086163   \n",
              "2010-01-07  82.620039  83.451910  80.646232  81.137794   797200  3.082992   \n",
              "2010-01-08  80.767222  81.130218  80.086598  80.744530   432400  3.106769   \n",
              "\n",
              "Ticker                                            ...        MKC             \\\n",
              "Price           High       Low     Close  Volume  ...       Open       High   \n",
              "Date                                              ...                         \n",
              "2010-01-04  3.136886  3.056046  3.108354  839363  ...  13.499167  13.499167   \n",
              "2010-01-05  3.117865  3.078237  3.092503  701663  ...  13.428719  13.465794   \n",
              "2010-01-06  3.130546  3.086163  3.094088  841388  ...  13.413894  13.488045   \n",
              "2010-01-07  3.121034  3.049705  3.117864  536119  ...  13.506580  13.588146   \n",
              "2010-01-08  3.121035  3.089333  3.113109  330581  ...  13.573318  13.614101   \n",
              "\n",
              "Ticker                                           CMI                        \\\n",
              "Price             Low      Close   Volume       Open       High        Low   \n",
              "Date                                                                         \n",
              "2010-01-04  13.369403  13.458384   980000  32.220044  32.748357  32.157480   \n",
              "2010-01-05  13.369398  13.421304  1097400  32.845670  33.492157  32.644077   \n",
              "2010-01-06  13.350865  13.473214  1175800  33.262742  33.798005  33.214082   \n",
              "2010-01-07  13.413891  13.577023  1399800  33.547764  35.487223  33.540814   \n",
              "2010-01-08  13.428724  13.614101  1332600  35.000634  37.829881  34.826848   \n",
              "\n",
              "Ticker                          \n",
              "Price           Close   Volume  \n",
              "Date                            \n",
              "2010-01-04  32.630180  1148600  \n",
              "2010-01-05  33.401787  1592300  \n",
              "2010-01-06  33.707638  1745900  \n",
              "2010-01-07  35.417709  3558600  \n",
              "2010-01-08  37.308521  4848000  \n",
              "\n",
              "[5 rows x 2505 columns]"
            ],
            "text/html": [
              "\n",
              "  <div id=\"df-4cc438a9-3383-4ab6-ac2d-7e2c8feddd62\" class=\"colab-df-container\">\n",
              "    <div>\n",
              "<style scoped>\n",
              "    .dataframe tbody tr th:only-of-type {\n",
              "        vertical-align: middle;\n",
              "    }\n",
              "\n",
              "    .dataframe tbody tr th {\n",
              "        vertical-align: top;\n",
              "    }\n",
              "\n",
              "    .dataframe thead tr th {\n",
              "        text-align: left;\n",
              "    }\n",
              "\n",
              "    .dataframe thead tr:last-of-type th {\n",
              "        text-align: right;\n",
              "    }\n",
              "</style>\n",
              "<table border=\"1\" class=\"dataframe\">\n",
              "  <thead>\n",
              "    <tr>\n",
              "      <th>Ticker</th>\n",
              "      <th colspan=\"5\" halign=\"left\">EQIX</th>\n",
              "      <th colspan=\"5\" halign=\"left\">ROL</th>\n",
              "      <th>...</th>\n",
              "      <th colspan=\"5\" halign=\"left\">MKC</th>\n",
              "      <th colspan=\"5\" halign=\"left\">CMI</th>\n",
              "    </tr>\n",
              "    <tr>\n",
              "      <th>Price</th>\n",
              "      <th>Open</th>\n",
              "      <th>High</th>\n",
              "      <th>Low</th>\n",
              "      <th>Close</th>\n",
              "      <th>Volume</th>\n",
              "      <th>Open</th>\n",
              "      <th>High</th>\n",
              "      <th>Low</th>\n",
              "      <th>Close</th>\n",
              "      <th>Volume</th>\n",
              "      <th>...</th>\n",
              "      <th>Open</th>\n",
              "      <th>High</th>\n",
              "      <th>Low</th>\n",
              "      <th>Close</th>\n",
              "      <th>Volume</th>\n",
              "      <th>Open</th>\n",
              "      <th>High</th>\n",
              "      <th>Low</th>\n",
              "      <th>Close</th>\n",
              "      <th>Volume</th>\n",
              "    </tr>\n",
              "    <tr>\n",
              "      <th>Date</th>\n",
              "      <th></th>\n",
              "      <th></th>\n",
              "      <th></th>\n",
              "      <th></th>\n",
              "      <th></th>\n",
              "      <th></th>\n",
              "      <th></th>\n",
              "      <th></th>\n",
              "      <th></th>\n",
              "      <th></th>\n",
              "      <th></th>\n",
              "      <th></th>\n",
              "      <th></th>\n",
              "      <th></th>\n",
              "      <th></th>\n",
              "      <th></th>\n",
              "      <th></th>\n",
              "      <th></th>\n",
              "      <th></th>\n",
              "      <th></th>\n",
              "      <th></th>\n",
              "    </tr>\n",
              "  </thead>\n",
              "  <tbody>\n",
              "    <tr>\n",
              "      <th>2010-01-04</th>\n",
              "      <td>80.555491</td>\n",
              "      <td>82.899863</td>\n",
              "      <td>80.547933</td>\n",
              "      <td>82.854485</td>\n",
              "      <td>576300</td>\n",
              "      <td>3.075067</td>\n",
              "      <td>3.136886</td>\n",
              "      <td>3.056046</td>\n",
              "      <td>3.108354</td>\n",
              "      <td>839363</td>\n",
              "      <td>...</td>\n",
              "      <td>13.499167</td>\n",
              "      <td>13.499167</td>\n",
              "      <td>13.369403</td>\n",
              "      <td>13.458384</td>\n",
              "      <td>980000</td>\n",
              "      <td>32.220044</td>\n",
              "      <td>32.748357</td>\n",
              "      <td>32.157480</td>\n",
              "      <td>32.630180</td>\n",
              "      <td>1148600</td>\n",
              "    </tr>\n",
              "    <tr>\n",
              "      <th>2010-01-05</th>\n",
              "      <td>82.877133</td>\n",
              "      <td>82.877133</td>\n",
              "      <td>81.962074</td>\n",
              "      <td>82.083076</td>\n",
              "      <td>681900</td>\n",
              "      <td>3.113109</td>\n",
              "      <td>3.117865</td>\n",
              "      <td>3.078237</td>\n",
              "      <td>3.092503</td>\n",
              "      <td>701663</td>\n",
              "      <td>...</td>\n",
              "      <td>13.428719</td>\n",
              "      <td>13.465794</td>\n",
              "      <td>13.369398</td>\n",
              "      <td>13.421304</td>\n",
              "      <td>1097400</td>\n",
              "      <td>32.845670</td>\n",
              "      <td>33.492157</td>\n",
              "      <td>32.644077</td>\n",
              "      <td>33.401787</td>\n",
              "      <td>1592300</td>\n",
              "    </tr>\n",
              "    <tr>\n",
              "      <th>2010-01-06</th>\n",
              "      <td>82.393185</td>\n",
              "      <td>83.618308</td>\n",
              "      <td>81.841127</td>\n",
              "      <td>82.831810</td>\n",
              "      <td>1397500</td>\n",
              "      <td>3.086163</td>\n",
              "      <td>3.130546</td>\n",
              "      <td>3.086163</td>\n",
              "      <td>3.094088</td>\n",
              "      <td>841388</td>\n",
              "      <td>...</td>\n",
              "      <td>13.413894</td>\n",
              "      <td>13.488045</td>\n",
              "      <td>13.350865</td>\n",
              "      <td>13.473214</td>\n",
              "      <td>1175800</td>\n",
              "      <td>33.262742</td>\n",
              "      <td>33.798005</td>\n",
              "      <td>33.214082</td>\n",
              "      <td>33.707638</td>\n",
              "      <td>1745900</td>\n",
              "    </tr>\n",
              "    <tr>\n",
              "      <th>2010-01-07</th>\n",
              "      <td>82.620039</td>\n",
              "      <td>83.451910</td>\n",
              "      <td>80.646232</td>\n",
              "      <td>81.137794</td>\n",
              "      <td>797200</td>\n",
              "      <td>3.082992</td>\n",
              "      <td>3.121034</td>\n",
              "      <td>3.049705</td>\n",
              "      <td>3.117864</td>\n",
              "      <td>536119</td>\n",
              "      <td>...</td>\n",
              "      <td>13.506580</td>\n",
              "      <td>13.588146</td>\n",
              "      <td>13.413891</td>\n",
              "      <td>13.577023</td>\n",
              "      <td>1399800</td>\n",
              "      <td>33.547764</td>\n",
              "      <td>35.487223</td>\n",
              "      <td>33.540814</td>\n",
              "      <td>35.417709</td>\n",
              "      <td>3558600</td>\n",
              "    </tr>\n",
              "    <tr>\n",
              "      <th>2010-01-08</th>\n",
              "      <td>80.767222</td>\n",
              "      <td>81.130218</td>\n",
              "      <td>80.086598</td>\n",
              "      <td>80.744530</td>\n",
              "      <td>432400</td>\n",
              "      <td>3.106769</td>\n",
              "      <td>3.121035</td>\n",
              "      <td>3.089333</td>\n",
              "      <td>3.113109</td>\n",
              "      <td>330581</td>\n",
              "      <td>...</td>\n",
              "      <td>13.573318</td>\n",
              "      <td>13.614101</td>\n",
              "      <td>13.428724</td>\n",
              "      <td>13.614101</td>\n",
              "      <td>1332600</td>\n",
              "      <td>35.000634</td>\n",
              "      <td>37.829881</td>\n",
              "      <td>34.826848</td>\n",
              "      <td>37.308521</td>\n",
              "      <td>4848000</td>\n",
              "    </tr>\n",
              "  </tbody>\n",
              "</table>\n",
              "<p>5 rows × 2505 columns</p>\n",
              "</div>\n",
              "    <div class=\"colab-df-buttons\">\n",
              "\n",
              "  <div class=\"colab-df-container\">\n",
              "    <button class=\"colab-df-convert\" onclick=\"convertToInteractive('df-4cc438a9-3383-4ab6-ac2d-7e2c8feddd62')\"\n",
              "            title=\"Convert this dataframe to an interactive table.\"\n",
              "            style=\"display:none;\">\n",
              "\n",
              "  <svg xmlns=\"http://www.w3.org/2000/svg\" height=\"24px\" viewBox=\"0 -960 960 960\">\n",
              "    <path d=\"M120-120v-720h720v720H120Zm60-500h600v-160H180v160Zm220 220h160v-160H400v160Zm0 220h160v-160H400v160ZM180-400h160v-160H180v160Zm440 0h160v-160H620v160ZM180-180h160v-160H180v160Zm440 0h160v-160H620v160Z\"/>\n",
              "  </svg>\n",
              "    </button>\n",
              "\n",
              "  <style>\n",
              "    .colab-df-container {\n",
              "      display:flex;\n",
              "      gap: 12px;\n",
              "    }\n",
              "\n",
              "    .colab-df-convert {\n",
              "      background-color: #E8F0FE;\n",
              "      border: none;\n",
              "      border-radius: 50%;\n",
              "      cursor: pointer;\n",
              "      display: none;\n",
              "      fill: #1967D2;\n",
              "      height: 32px;\n",
              "      padding: 0 0 0 0;\n",
              "      width: 32px;\n",
              "    }\n",
              "\n",
              "    .colab-df-convert:hover {\n",
              "      background-color: #E2EBFA;\n",
              "      box-shadow: 0px 1px 2px rgba(60, 64, 67, 0.3), 0px 1px 3px 1px rgba(60, 64, 67, 0.15);\n",
              "      fill: #174EA6;\n",
              "    }\n",
              "\n",
              "    .colab-df-buttons div {\n",
              "      margin-bottom: 4px;\n",
              "    }\n",
              "\n",
              "    [theme=dark] .colab-df-convert {\n",
              "      background-color: #3B4455;\n",
              "      fill: #D2E3FC;\n",
              "    }\n",
              "\n",
              "    [theme=dark] .colab-df-convert:hover {\n",
              "      background-color: #434B5C;\n",
              "      box-shadow: 0px 1px 3px 1px rgba(0, 0, 0, 0.15);\n",
              "      filter: drop-shadow(0px 1px 2px rgba(0, 0, 0, 0.3));\n",
              "      fill: #FFFFFF;\n",
              "    }\n",
              "  </style>\n",
              "\n",
              "    <script>\n",
              "      const buttonEl =\n",
              "        document.querySelector('#df-4cc438a9-3383-4ab6-ac2d-7e2c8feddd62 button.colab-df-convert');\n",
              "      buttonEl.style.display =\n",
              "        google.colab.kernel.accessAllowed ? 'block' : 'none';\n",
              "\n",
              "      async function convertToInteractive(key) {\n",
              "        const element = document.querySelector('#df-4cc438a9-3383-4ab6-ac2d-7e2c8feddd62');\n",
              "        const dataTable =\n",
              "          await google.colab.kernel.invokeFunction('convertToInteractive',\n",
              "                                                    [key], {});\n",
              "        if (!dataTable) return;\n",
              "\n",
              "        const docLinkHtml = 'Like what you see? Visit the ' +\n",
              "          '<a target=\"_blank\" href=https://colab.research.google.com/notebooks/data_table.ipynb>data table notebook</a>'\n",
              "          + ' to learn more about interactive tables.';\n",
              "        element.innerHTML = '';\n",
              "        dataTable['output_type'] = 'display_data';\n",
              "        await google.colab.output.renderOutput(dataTable, element);\n",
              "        const docLink = document.createElement('div');\n",
              "        docLink.innerHTML = docLinkHtml;\n",
              "        element.appendChild(docLink);\n",
              "      }\n",
              "    </script>\n",
              "  </div>\n",
              "\n",
              "\n",
              "<div id=\"df-634282e2-2e71-4413-9d80-a5e845887afd\">\n",
              "  <button class=\"colab-df-quickchart\" onclick=\"quickchart('df-634282e2-2e71-4413-9d80-a5e845887afd')\"\n",
              "            title=\"Suggest charts\"\n",
              "            style=\"display:none;\">\n",
              "\n",
              "<svg xmlns=\"http://www.w3.org/2000/svg\" height=\"24px\"viewBox=\"0 0 24 24\"\n",
              "     width=\"24px\">\n",
              "    <g>\n",
              "        <path d=\"M19 3H5c-1.1 0-2 .9-2 2v14c0 1.1.9 2 2 2h14c1.1 0 2-.9 2-2V5c0-1.1-.9-2-2-2zM9 17H7v-7h2v7zm4 0h-2V7h2v10zm4 0h-2v-4h2v4z\"/>\n",
              "    </g>\n",
              "</svg>\n",
              "  </button>\n",
              "\n",
              "<style>\n",
              "  .colab-df-quickchart {\n",
              "      --bg-color: #E8F0FE;\n",
              "      --fill-color: #1967D2;\n",
              "      --hover-bg-color: #E2EBFA;\n",
              "      --hover-fill-color: #174EA6;\n",
              "      --disabled-fill-color: #AAA;\n",
              "      --disabled-bg-color: #DDD;\n",
              "  }\n",
              "\n",
              "  [theme=dark] .colab-df-quickchart {\n",
              "      --bg-color: #3B4455;\n",
              "      --fill-color: #D2E3FC;\n",
              "      --hover-bg-color: #434B5C;\n",
              "      --hover-fill-color: #FFFFFF;\n",
              "      --disabled-bg-color: #3B4455;\n",
              "      --disabled-fill-color: #666;\n",
              "  }\n",
              "\n",
              "  .colab-df-quickchart {\n",
              "    background-color: var(--bg-color);\n",
              "    border: none;\n",
              "    border-radius: 50%;\n",
              "    cursor: pointer;\n",
              "    display: none;\n",
              "    fill: var(--fill-color);\n",
              "    height: 32px;\n",
              "    padding: 0;\n",
              "    width: 32px;\n",
              "  }\n",
              "\n",
              "  .colab-df-quickchart:hover {\n",
              "    background-color: var(--hover-bg-color);\n",
              "    box-shadow: 0 1px 2px rgba(60, 64, 67, 0.3), 0 1px 3px 1px rgba(60, 64, 67, 0.15);\n",
              "    fill: var(--button-hover-fill-color);\n",
              "  }\n",
              "\n",
              "  .colab-df-quickchart-complete:disabled,\n",
              "  .colab-df-quickchart-complete:disabled:hover {\n",
              "    background-color: var(--disabled-bg-color);\n",
              "    fill: var(--disabled-fill-color);\n",
              "    box-shadow: none;\n",
              "  }\n",
              "\n",
              "  .colab-df-spinner {\n",
              "    border: 2px solid var(--fill-color);\n",
              "    border-color: transparent;\n",
              "    border-bottom-color: var(--fill-color);\n",
              "    animation:\n",
              "      spin 1s steps(1) infinite;\n",
              "  }\n",
              "\n",
              "  @keyframes spin {\n",
              "    0% {\n",
              "      border-color: transparent;\n",
              "      border-bottom-color: var(--fill-color);\n",
              "      border-left-color: var(--fill-color);\n",
              "    }\n",
              "    20% {\n",
              "      border-color: transparent;\n",
              "      border-left-color: var(--fill-color);\n",
              "      border-top-color: var(--fill-color);\n",
              "    }\n",
              "    30% {\n",
              "      border-color: transparent;\n",
              "      border-left-color: var(--fill-color);\n",
              "      border-top-color: var(--fill-color);\n",
              "      border-right-color: var(--fill-color);\n",
              "    }\n",
              "    40% {\n",
              "      border-color: transparent;\n",
              "      border-right-color: var(--fill-color);\n",
              "      border-top-color: var(--fill-color);\n",
              "    }\n",
              "    60% {\n",
              "      border-color: transparent;\n",
              "      border-right-color: var(--fill-color);\n",
              "    }\n",
              "    80% {\n",
              "      border-color: transparent;\n",
              "      border-right-color: var(--fill-color);\n",
              "      border-bottom-color: var(--fill-color);\n",
              "    }\n",
              "    90% {\n",
              "      border-color: transparent;\n",
              "      border-bottom-color: var(--fill-color);\n",
              "    }\n",
              "  }\n",
              "</style>\n",
              "\n",
              "  <script>\n",
              "    async function quickchart(key) {\n",
              "      const quickchartButtonEl =\n",
              "        document.querySelector('#' + key + ' button');\n",
              "      quickchartButtonEl.disabled = true;  // To prevent multiple clicks.\n",
              "      quickchartButtonEl.classList.add('colab-df-spinner');\n",
              "      try {\n",
              "        const charts = await google.colab.kernel.invokeFunction(\n",
              "            'suggestCharts', [key], {});\n",
              "      } catch (error) {\n",
              "        console.error('Error during call to suggestCharts:', error);\n",
              "      }\n",
              "      quickchartButtonEl.classList.remove('colab-df-spinner');\n",
              "      quickchartButtonEl.classList.add('colab-df-quickchart-complete');\n",
              "    }\n",
              "    (() => {\n",
              "      let quickchartButtonEl =\n",
              "        document.querySelector('#df-634282e2-2e71-4413-9d80-a5e845887afd button');\n",
              "      quickchartButtonEl.style.display =\n",
              "        google.colab.kernel.accessAllowed ? 'block' : 'none';\n",
              "    })();\n",
              "  </script>\n",
              "</div>\n",
              "\n",
              "    </div>\n",
              "  </div>\n"
            ],
            "application/vnd.google.colaboratory.intrinsic+json": {
              "type": "dataframe",
              "variable_name": "data"
            }
          },
          "metadata": {},
          "execution_count": 105
        }
      ]
    },
    {
      "cell_type": "markdown",
      "source": [
        "# Calculating Vals to pick the best stocks"
      ],
      "metadata": {
        "id": "qZof2HGSSqJg"
      }
    },
    {
      "cell_type": "markdown",
      "source": [
        "Select the top 5 stable stocks (low volatility) with strong upward movement (high momentum) and balanced RSI (30–70)."
      ],
      "metadata": {
        "id": "Gaj6Q_qJSzUm"
      }
    },
    {
      "cell_type": "code",
      "source": [
        "stock = []\n",
        "rsi = []\n",
        "vol = []\n",
        "mom = []\n",
        "sma = []\n",
        "\n",
        "for i in tickers:\n",
        "    data_sample = data[i].dropna().tail(30)\n",
        "\n",
        "    if len(data_sample) < 10:\n",
        "        continue\n",
        "\n",
        "    sma_val = data_sample['Close'].tail(5).mean()\n",
        "\n",
        "    delta = data_sample['Close'].diff()\n",
        "    gain = delta.clip(lower=0)\n",
        "    loss = -delta.clip(upper=0)\n",
        "    rsi_val = 100 - (100 / (1 + gain.mean() / loss.mean()))\n",
        "\n",
        "    mom_val = data_sample['Close'].iloc[-1] - data_sample['Close'].iloc[-5]\n",
        "    vol_val = data_sample['Close'].pct_change().tail(10).std()\n",
        "\n",
        "    stock.append(i)\n",
        "    rsi.append(rsi_val)\n",
        "    vol.append(vol_val)\n",
        "    mom.append(mom_val)\n",
        "    sma.append(sma_val)\n",
        "\n",
        "df = pd.DataFrame({\n",
        "    \"stock\": stock,\n",
        "    \"rsi\": rsi,\n",
        "    \"vol\": vol,\n",
        "    \"mom\": mom,\n",
        "    \"sma\": sma\n",
        "})\n",
        "\n",
        "best_stocks = df[\n",
        "    (df['rsi'].between(30, 70))\n",
        "].sort_values(\n",
        "by=['vol', 'mom'],\n",
        "ascending=[True, False]\n",
        ").head(5)\n",
        "\n",
        "print(best_stocks)\n",
        "best_stocks = best_stocks['stock'].tolist()\n",
        "print(best_stocks)\n"
      ],
      "metadata": {
        "colab": {
          "base_uri": "https://localhost:8080/"
        },
        "id": "RYPty31K-rVk",
        "outputId": "84453c33-33ec-488f-942b-3dbea7a44681"
      },
      "execution_count": 106,
      "outputs": [
        {
          "output_type": "stream",
          "name": "stdout",
          "text": [
            "    stock        rsi       vol       mom         sma\n",
            "266     K  45.092032  0.003702  0.650002   82.004001\n",
            "469  VRTX  50.292173  0.013382  9.660004  477.787994\n",
            "478   WBA  57.784426  0.014010  0.070000   10.710000\n",
            "484   WEC  48.043598  0.015937  3.750000  104.598000\n",
            "92    CNP  60.080250  0.016119  1.080002   36.016000\n",
            "['K', 'VRTX', 'WBA', 'WEC', 'CNP']\n"
          ]
        }
      ]
    },
    {
      "cell_type": "markdown",
      "source": [
        "# Example with one of the stocks, WEC\n",
        "\n"
      ],
      "metadata": {
        "id": "K8fOMcerTFXA"
      }
    },
    {
      "cell_type": "markdown",
      "source": [
        "For sentiment analysis, we should try more popular stocks like Apple, Amazon, Tesla, Microsoft, Meta..."
      ],
      "metadata": {
        "id": "EnqCSQspTN-2"
      }
    },
    {
      "cell_type": "code",
      "source": [
        "# Test\n",
        "appl_data = data['WEC']\n",
        "\n",
        "\n",
        "appl_data[\"Change\"] = appl_data['Close'].pct_change(5)\n",
        "\n",
        "appl_data['SMA'] = appl_data['Close'].rolling(5).mean()  # change to 1 for 1-day prediction\n",
        "\n",
        "delta = appl_data['Close'].diff()\n",
        "gain = delta.clip(lower=0)\n",
        "loss = -delta.clip(upper=0)\n",
        "appl_data['RSI'] = 100 - (100 / (1 + gain.rolling(14).mean() / loss.rolling(14).mean()))\n",
        "\n",
        "\n",
        "appl_data['Volatility'] = appl_data['Close'].pct_change().rolling(5).std()  # change to 1 for 1-day prediction\n",
        "\n",
        "\n",
        "appl_data['Momentum'] = appl_data['Close'].diff(5)  # change to 1 for 1-day prediction\n",
        "\n",
        "\n",
        "appl_data = appl_data.dropna()\n",
        "\n",
        "\n",
        "print(appl_data[['Close', 'SMA', 'RSI', 'Volatility', 'Momentum','Change']].tail(6))\n",
        "\n",
        "\n",
        "\n"
      ],
      "metadata": {
        "colab": {
          "base_uri": "https://localhost:8080/"
        },
        "id": "wHMji2GLJCJx",
        "outputId": "9952477b-785f-409d-d00b-4a6d3aa4a419"
      },
      "execution_count": 107,
      "outputs": [
        {
          "output_type": "stream",
          "name": "stdout",
          "text": [
            "Price            Close         SMA        RSI  Volatility  Momentum    Change\n",
            "Date                                                                         \n",
            "2025-04-04  104.360001  107.920000  40.142844    0.019306 -3.190002 -0.029661\n",
            "2025-04-07  103.209999  106.765999  34.094057    0.016068 -5.770004 -0.052946\n",
            "2025-04-08  102.949997  105.577998  34.094039    0.015823 -5.940002 -0.054550\n",
            "2025-04-09  104.360001  104.681999  38.949412    0.019116 -4.479996 -0.041161\n",
            "2025-04-10  105.510002  104.078000  45.875654    0.021004 -3.019997 -0.027826\n",
            "2025-04-11  106.959999  104.598000  53.646475    0.011197  2.599998  0.024914\n"
          ]
        },
        {
          "output_type": "stream",
          "name": "stderr",
          "text": [
            "<ipython-input-107-2e8796300d1c>:5: SettingWithCopyWarning: \n",
            "A value is trying to be set on a copy of a slice from a DataFrame.\n",
            "Try using .loc[row_indexer,col_indexer] = value instead\n",
            "\n",
            "See the caveats in the documentation: https://pandas.pydata.org/pandas-docs/stable/user_guide/indexing.html#returning-a-view-versus-a-copy\n",
            "  appl_data[\"Change\"] = appl_data['Close'].pct_change(5)\n",
            "<ipython-input-107-2e8796300d1c>:7: SettingWithCopyWarning: \n",
            "A value is trying to be set on a copy of a slice from a DataFrame.\n",
            "Try using .loc[row_indexer,col_indexer] = value instead\n",
            "\n",
            "See the caveats in the documentation: https://pandas.pydata.org/pandas-docs/stable/user_guide/indexing.html#returning-a-view-versus-a-copy\n",
            "  appl_data['SMA'] = appl_data['Close'].rolling(5).mean()  # change to 1 for 1-day prediction\n",
            "<ipython-input-107-2e8796300d1c>:12: SettingWithCopyWarning: \n",
            "A value is trying to be set on a copy of a slice from a DataFrame.\n",
            "Try using .loc[row_indexer,col_indexer] = value instead\n",
            "\n",
            "See the caveats in the documentation: https://pandas.pydata.org/pandas-docs/stable/user_guide/indexing.html#returning-a-view-versus-a-copy\n",
            "  appl_data['RSI'] = 100 - (100 / (1 + gain.rolling(14).mean() / loss.rolling(14).mean()))\n",
            "<ipython-input-107-2e8796300d1c>:15: SettingWithCopyWarning: \n",
            "A value is trying to be set on a copy of a slice from a DataFrame.\n",
            "Try using .loc[row_indexer,col_indexer] = value instead\n",
            "\n",
            "See the caveats in the documentation: https://pandas.pydata.org/pandas-docs/stable/user_guide/indexing.html#returning-a-view-versus-a-copy\n",
            "  appl_data['Volatility'] = appl_data['Close'].pct_change().rolling(5).std()  # change to 1 for 1-day prediction\n",
            "<ipython-input-107-2e8796300d1c>:18: SettingWithCopyWarning: \n",
            "A value is trying to be set on a copy of a slice from a DataFrame.\n",
            "Try using .loc[row_indexer,col_indexer] = value instead\n",
            "\n",
            "See the caveats in the documentation: https://pandas.pydata.org/pandas-docs/stable/user_guide/indexing.html#returning-a-view-versus-a-copy\n",
            "  appl_data['Momentum'] = appl_data['Close'].diff(5)  # change to 1 for 1-day prediction\n"
          ]
        }
      ]
    },
    {
      "cell_type": "markdown",
      "source": [
        "# Scaling & Splitting data"
      ],
      "metadata": {
        "id": "HLT6TU0fTeD0"
      }
    },
    {
      "cell_type": "code",
      "source": [
        "\n",
        "\n",
        "\n",
        "appl_data['Date'] = pd.to_datetime(appl_data.index if 'Date' not in appl_data.columns else appl_data['Date'])\n",
        "start_date = appl_data['Date'].min()\n",
        "end_date = appl_data['Date'].max()\n",
        "train_end_date = start_date + pd.DateOffset(years=13)\n",
        "test_start_date = train_end_date + pd.DateOffset(days=1)\n",
        "\n",
        "train_data = appl_data[appl_data['Date'] <= train_end_date].copy()\n",
        "test_data = appl_data[appl_data['Date'] >= test_start_date].copy()\n",
        "\n",
        "\n",
        "features = ['Close', 'Change', 'SMA', 'RSI', 'Volatility', 'Momentum']\n",
        "scaler = MinMaxScaler(feature_range=(-1, 1))\n",
        "\n",
        "\n",
        "train_features = train_data[features].dropna()\n",
        "test_features = test_data[features].dropna()\n",
        "scaled_train = scaler.fit_transform(train_features)\n",
        "scaled_test = scaler.transform(test_features)\n",
        "\n",
        "\n",
        "def create_sequences(features, targets, seq_length=5):\n",
        "    X, y = [], []\n",
        "    for i in range(len(features) - seq_length):\n",
        "        X.append(features[i:i+seq_length])\n",
        "        y.append(targets[i + seq_length])\n",
        "    return np.array(X), np.array(y)\n",
        "\n",
        "\n",
        "y_train_values = train_data['Change'].loc[train_features.index].values\n",
        "y_test_values = test_data['Change'].loc[test_features.index].values\n",
        "\n",
        "X_train, y_train = create_sequences(scaled_train, y_train_values)\n",
        "X_test, y_test = create_sequences(scaled_test, y_test_values)\n",
        "\n",
        "print(f\"Training shapes: X={X_train.shape}, y={y_train.shape}\")\n",
        "print(f\"Testing shapes: X={X_test.shape}, y={y_test.shape}\")\n",
        "print(X_train)"
      ],
      "metadata": {
        "id": "e0d2vs44Tp0A",
        "colab": {
          "base_uri": "https://localhost:8080/"
        },
        "outputId": "896e04e7-3ee7-45b4-8a50-5f5c001dd662"
      },
      "execution_count": 108,
      "outputs": [
        {
          "output_type": "stream",
          "name": "stdout",
          "text": [
            "Training shapes: X=(3269, 5, 6), y=(3269,)\n",
            "Testing shapes: X=(550, 5, 6), y=(550,)\n",
            "[[[-0.99116276 -0.14453793 -0.98752253 -0.13689266 -0.81137639\n",
            "    0.07866314]\n",
            "  [-0.9934807  -0.19763352 -0.99001521 -0.0747666  -0.84488524\n",
            "    0.06710326]\n",
            "  [-0.99384291 -0.18873159 -0.99231839 -0.19840303 -0.84076731\n",
            "    0.06910691]\n",
            "  [-0.99420498 -0.16711658 -0.99416964 -0.18864347 -0.83710451\n",
            "    0.07388532]\n",
            "  [-0.99391527 -0.08115917 -0.99428624 -0.25500955 -0.94109992\n",
            "    0.09222677]]\n",
            "\n",
            " [[-0.9934807  -0.19763352 -0.99001521 -0.0747666  -0.84488524\n",
            "    0.06710326]\n",
            "  [-0.99384291 -0.18873159 -0.99231839 -0.19840303 -0.84076731\n",
            "    0.06910691]\n",
            "  [-0.99420498 -0.16711658 -0.99416964 -0.18864347 -0.83710451\n",
            "    0.07388532]\n",
            "  [-0.99391527 -0.08115917 -0.99428624 -0.25500955 -0.94109992\n",
            "    0.09222677]\n",
            "  [-0.99253899 -0.0892189  -0.9945632  -0.43037183 -0.95321388\n",
            "    0.09053126]]\n",
            "\n",
            " [[-0.99384291 -0.18873159 -0.99231839 -0.19840303 -0.84076731\n",
            "    0.06910691]\n",
            "  [-0.99420498 -0.16711658 -0.99416964 -0.18864347 -0.83710451\n",
            "    0.07388532]\n",
            "  [-0.99391527 -0.08115917 -0.99428624 -0.25500955 -0.94109992\n",
            "    0.09222677]\n",
            "  [-0.99253899 -0.0892189  -0.9945632  -0.43037183 -0.95321388\n",
            "    0.09053126]\n",
            "  [-0.98913454 -0.03079105 -0.99368857 -0.23556922 -0.94215884\n",
            "    0.10270755]]\n",
            "\n",
            " ...\n",
            "\n",
            " [[ 0.756583   -0.03770277  0.79010718  0.0187143  -0.77292321\n",
            "    0.13930266]\n",
            "  [ 0.74097454 -0.13237232  0.78338256 -0.08837899 -0.82247749\n",
            "    0.0223566 ]\n",
            "  [ 0.68579365 -0.2324781   0.76484529 -0.26842221 -0.76816298\n",
            "   -0.10254476]\n",
            "  [ 0.6697453  -0.3117938   0.73653073 -0.25811329 -0.88905011\n",
            "   -0.20592517]\n",
            "  [ 0.69788511 -0.21688627  0.71980742 -0.19351322 -0.7805819\n",
            "   -0.08336486]]\n",
            "\n",
            " [[ 0.74097454 -0.13237232  0.78338256 -0.08837899 -0.82247749\n",
            "    0.0223566 ]\n",
            "  [ 0.68579365 -0.2324781   0.76484529 -0.26842221 -0.76816298\n",
            "   -0.10254476]\n",
            "  [ 0.6697453  -0.3117938   0.73653073 -0.25811329 -0.88905011\n",
            "   -0.20592517]\n",
            "  [ 0.69788511 -0.21688627  0.71980742 -0.19351322 -0.7805819\n",
            "   -0.08336486]\n",
            "  [ 0.69238921 -0.18592692  0.70688895 -0.11680586 -0.78083849\n",
            "   -0.04313415]]\n",
            "\n",
            " [[ 0.68579365 -0.2324781   0.76484529 -0.26842221 -0.76816298\n",
            "   -0.10254476]\n",
            "  [ 0.6697453  -0.3117938   0.73653073 -0.25811329 -0.88905011\n",
            "   -0.20592517]\n",
            "  [ 0.69788511 -0.21688627  0.71980742 -0.19351322 -0.7805819\n",
            "   -0.08336486]\n",
            "  [ 0.69238921 -0.18592692  0.70688895 -0.11680586 -0.78083849\n",
            "   -0.04313415]\n",
            "  [ 0.69348813 -0.15772976  0.69733271 -0.14042116 -0.77672141\n",
            "   -0.00758359]]]\n"
          ]
        }
      ]
    },
    {
      "cell_type": "markdown",
      "source": [
        "# LSTM Model"
      ],
      "metadata": {
        "id": "CmKlHC3UgSJX"
      }
    },
    {
      "cell_type": "code",
      "source": [
        "from tensorflow.keras.models import Sequential\n",
        "from tensorflow.keras.layers import LSTM, Dense, Dropout\n",
        "from tensorflow.keras.optimizers import Adam\n",
        "from sklearn.metrics import mean_absolute_error, mean_squared_error\n",
        "from keras.models import Sequential\n",
        "from keras.layers import LSTM, Bidirectional, Dense, Dropout\n",
        "from keras.optimizers import Adam\n",
        "\n",
        "# Define the model\n",
        "def build_lstm_model(input_shape):\n",
        "    model = Sequential()\n",
        "\n",
        "    # LSTM Layer 1\n",
        "    model.add(LSTM(units=50, return_sequences=True, input_shape=input_shape))\n",
        "    # LSTM Layer 2\n",
        "    model.add(LSTM(units=50, return_sequences=False))\n",
        "\n",
        "    # Dense Layer (Output layer)\n",
        "    model.add(Dense(units=1))  # Predicting the next day's change (continuous value)\n",
        "\n",
        "    # Compile the model\n",
        "    model.compile(optimizer=Adam(learning_rate=0.01), loss='mean_squared_error', metrics=['mae'])\n",
        "\n",
        "    return model\n",
        "\n",
        "\n",
        "input_shape = (X_train.shape[1], X_train.shape[2])  # (sequence_length, num_features)\n",
        "\n",
        "# Build and summarize the model\n",
        "model = build_lstm_model(input_shape)\n",
        "model.summary()\n",
        "\n",
        "# Train the model\n",
        "history = model.fit(X_train, y_train, epochs=50, batch_size=32, validation_data=(X_test, y_test))\n",
        "\n",
        "# Evaluate the model on the test data\n",
        "predictions = model.predict(X_test)\n",
        "\n",
        "# Evaluate with Mean Absolute Error (MAE) and Mean Squared Error (MSE)\n",
        "mae = mean_absolute_error(y_test, predictions)\n",
        "mse = mean_squared_error(y_test, predictions)\n",
        "\n",
        "print(f\"Mean Absolute Error (MAE): {mae}\")\n",
        "print(f\"Mean Squared Error (MSE): {mse}\")\n",
        "\n"
      ],
      "metadata": {
        "colab": {
          "base_uri": "https://localhost:8080/",
          "height": 1000
        },
        "id": "txB1EdT_RJd-",
        "outputId": "7add2f37-faf5-4c6e-c207-76709df018cc"
      },
      "execution_count": 109,
      "outputs": [
        {
          "output_type": "stream",
          "name": "stderr",
          "text": [
            "/usr/local/lib/python3.11/dist-packages/keras/src/layers/rnn/rnn.py:200: UserWarning: Do not pass an `input_shape`/`input_dim` argument to a layer. When using Sequential models, prefer using an `Input(shape)` object as the first layer in the model instead.\n",
            "  super().__init__(**kwargs)\n"
          ]
        },
        {
          "output_type": "display_data",
          "data": {
            "text/plain": [
              "\u001b[1mModel: \"sequential_7\"\u001b[0m\n"
            ],
            "text/html": [
              "<pre style=\"white-space:pre;overflow-x:auto;line-height:normal;font-family:Menlo,'DejaVu Sans Mono',consolas,'Courier New',monospace\"><span style=\"font-weight: bold\">Model: \"sequential_7\"</span>\n",
              "</pre>\n"
            ]
          },
          "metadata": {}
        },
        {
          "output_type": "display_data",
          "data": {
            "text/plain": [
              "┏━━━━━━━━━━━━━━━━━━━━━━━━━━━━━━━━━┳━━━━━━━━━━━━━━━━━━━━━━━━┳━━━━━━━━━━━━━━━┓\n",
              "┃\u001b[1m \u001b[0m\u001b[1mLayer (type)                   \u001b[0m\u001b[1m \u001b[0m┃\u001b[1m \u001b[0m\u001b[1mOutput Shape          \u001b[0m\u001b[1m \u001b[0m┃\u001b[1m \u001b[0m\u001b[1m      Param #\u001b[0m\u001b[1m \u001b[0m┃\n",
              "┡━━━━━━━━━━━━━━━━━━━━━━━━━━━━━━━━━╇━━━━━━━━━━━━━━━━━━━━━━━━╇━━━━━━━━━━━━━━━┩\n",
              "│ lstm_14 (\u001b[38;5;33mLSTM\u001b[0m)                  │ (\u001b[38;5;45mNone\u001b[0m, \u001b[38;5;34m5\u001b[0m, \u001b[38;5;34m50\u001b[0m)          │        \u001b[38;5;34m11,400\u001b[0m │\n",
              "├─────────────────────────────────┼────────────────────────┼───────────────┤\n",
              "│ lstm_15 (\u001b[38;5;33mLSTM\u001b[0m)                  │ (\u001b[38;5;45mNone\u001b[0m, \u001b[38;5;34m50\u001b[0m)             │        \u001b[38;5;34m20,200\u001b[0m │\n",
              "├─────────────────────────────────┼────────────────────────┼───────────────┤\n",
              "│ dense_7 (\u001b[38;5;33mDense\u001b[0m)                 │ (\u001b[38;5;45mNone\u001b[0m, \u001b[38;5;34m1\u001b[0m)              │            \u001b[38;5;34m51\u001b[0m │\n",
              "└─────────────────────────────────┴────────────────────────┴───────────────┘\n"
            ],
            "text/html": [
              "<pre style=\"white-space:pre;overflow-x:auto;line-height:normal;font-family:Menlo,'DejaVu Sans Mono',consolas,'Courier New',monospace\">┏━━━━━━━━━━━━━━━━━━━━━━━━━━━━━━━━━┳━━━━━━━━━━━━━━━━━━━━━━━━┳━━━━━━━━━━━━━━━┓\n",
              "┃<span style=\"font-weight: bold\"> Layer (type)                    </span>┃<span style=\"font-weight: bold\"> Output Shape           </span>┃<span style=\"font-weight: bold\">       Param # </span>┃\n",
              "┡━━━━━━━━━━━━━━━━━━━━━━━━━━━━━━━━━╇━━━━━━━━━━━━━━━━━━━━━━━━╇━━━━━━━━━━━━━━━┩\n",
              "│ lstm_14 (<span style=\"color: #0087ff; text-decoration-color: #0087ff\">LSTM</span>)                  │ (<span style=\"color: #00d7ff; text-decoration-color: #00d7ff\">None</span>, <span style=\"color: #00af00; text-decoration-color: #00af00\">5</span>, <span style=\"color: #00af00; text-decoration-color: #00af00\">50</span>)          │        <span style=\"color: #00af00; text-decoration-color: #00af00\">11,400</span> │\n",
              "├─────────────────────────────────┼────────────────────────┼───────────────┤\n",
              "│ lstm_15 (<span style=\"color: #0087ff; text-decoration-color: #0087ff\">LSTM</span>)                  │ (<span style=\"color: #00d7ff; text-decoration-color: #00d7ff\">None</span>, <span style=\"color: #00af00; text-decoration-color: #00af00\">50</span>)             │        <span style=\"color: #00af00; text-decoration-color: #00af00\">20,200</span> │\n",
              "├─────────────────────────────────┼────────────────────────┼───────────────┤\n",
              "│ dense_7 (<span style=\"color: #0087ff; text-decoration-color: #0087ff\">Dense</span>)                 │ (<span style=\"color: #00d7ff; text-decoration-color: #00d7ff\">None</span>, <span style=\"color: #00af00; text-decoration-color: #00af00\">1</span>)              │            <span style=\"color: #00af00; text-decoration-color: #00af00\">51</span> │\n",
              "└─────────────────────────────────┴────────────────────────┴───────────────┘\n",
              "</pre>\n"
            ]
          },
          "metadata": {}
        },
        {
          "output_type": "display_data",
          "data": {
            "text/plain": [
              "\u001b[1m Total params: \u001b[0m\u001b[38;5;34m31,651\u001b[0m (123.64 KB)\n"
            ],
            "text/html": [
              "<pre style=\"white-space:pre;overflow-x:auto;line-height:normal;font-family:Menlo,'DejaVu Sans Mono',consolas,'Courier New',monospace\"><span style=\"font-weight: bold\"> Total params: </span><span style=\"color: #00af00; text-decoration-color: #00af00\">31,651</span> (123.64 KB)\n",
              "</pre>\n"
            ]
          },
          "metadata": {}
        },
        {
          "output_type": "display_data",
          "data": {
            "text/plain": [
              "\u001b[1m Trainable params: \u001b[0m\u001b[38;5;34m31,651\u001b[0m (123.64 KB)\n"
            ],
            "text/html": [
              "<pre style=\"white-space:pre;overflow-x:auto;line-height:normal;font-family:Menlo,'DejaVu Sans Mono',consolas,'Courier New',monospace\"><span style=\"font-weight: bold\"> Trainable params: </span><span style=\"color: #00af00; text-decoration-color: #00af00\">31,651</span> (123.64 KB)\n",
              "</pre>\n"
            ]
          },
          "metadata": {}
        },
        {
          "output_type": "display_data",
          "data": {
            "text/plain": [
              "\u001b[1m Non-trainable params: \u001b[0m\u001b[38;5;34m0\u001b[0m (0.00 B)\n"
            ],
            "text/html": [
              "<pre style=\"white-space:pre;overflow-x:auto;line-height:normal;font-family:Menlo,'DejaVu Sans Mono',consolas,'Courier New',monospace\"><span style=\"font-weight: bold\"> Non-trainable params: </span><span style=\"color: #00af00; text-decoration-color: #00af00\">0</span> (0.00 B)\n",
              "</pre>\n"
            ]
          },
          "metadata": {}
        },
        {
          "output_type": "stream",
          "name": "stdout",
          "text": [
            "Epoch 1/50\n",
            "\u001b[1m103/103\u001b[0m \u001b[32m━━━━━━━━━━━━━━━━━━━━\u001b[0m\u001b[37m\u001b[0m \u001b[1m6s\u001b[0m 14ms/step - loss: 0.0046 - mae: 0.0381 - val_loss: 3.0388e-04 - val_mae: 0.0138\n",
            "Epoch 2/50\n",
            "\u001b[1m103/103\u001b[0m \u001b[32m━━━━━━━━━━━━━━━━━━━━\u001b[0m\u001b[37m\u001b[0m \u001b[1m2s\u001b[0m 9ms/step - loss: 2.7689e-04 - mae: 0.0118 - val_loss: 2.7244e-04 - val_mae: 0.0129\n",
            "Epoch 3/50\n",
            "\u001b[1m103/103\u001b[0m \u001b[32m━━━━━━━━━━━━━━━━━━━━\u001b[0m\u001b[37m\u001b[0m \u001b[1m1s\u001b[0m 8ms/step - loss: 2.9448e-04 - mae: 0.0122 - val_loss: 4.0675e-04 - val_mae: 0.0163\n",
            "Epoch 4/50\n",
            "\u001b[1m103/103\u001b[0m \u001b[32m━━━━━━━━━━━━━━━━━━━━\u001b[0m\u001b[37m\u001b[0m \u001b[1m1s\u001b[0m 8ms/step - loss: 3.7055e-04 - mae: 0.0127 - val_loss: 3.8675e-04 - val_mae: 0.0158\n",
            "Epoch 5/50\n",
            "\u001b[1m103/103\u001b[0m \u001b[32m━━━━━━━━━━━━━━━━━━━━\u001b[0m\u001b[37m\u001b[0m \u001b[1m1s\u001b[0m 9ms/step - loss: 3.2256e-04 - mae: 0.0130 - val_loss: 2.6851e-04 - val_mae: 0.0128\n",
            "Epoch 6/50\n",
            "\u001b[1m103/103\u001b[0m \u001b[32m━━━━━━━━━━━━━━━━━━━━\u001b[0m\u001b[37m\u001b[0m \u001b[1m2s\u001b[0m 14ms/step - loss: 2.8889e-04 - mae: 0.0119 - val_loss: 2.8567e-04 - val_mae: 0.0133\n",
            "Epoch 7/50\n",
            "\u001b[1m103/103\u001b[0m \u001b[32m━━━━━━━━━━━━━━━━━━━━\u001b[0m\u001b[37m\u001b[0m \u001b[1m1s\u001b[0m 12ms/step - loss: 2.7334e-04 - mae: 0.0116 - val_loss: 2.5251e-04 - val_mae: 0.0125\n",
            "Epoch 8/50\n",
            "\u001b[1m103/103\u001b[0m \u001b[32m━━━━━━━━━━━━━━━━━━━━\u001b[0m\u001b[37m\u001b[0m \u001b[1m1s\u001b[0m 8ms/step - loss: 2.5124e-04 - mae: 0.0115 - val_loss: 3.3575e-04 - val_mae: 0.0146\n",
            "Epoch 9/50\n",
            "\u001b[1m103/103\u001b[0m \u001b[32m━━━━━━━━━━━━━━━━━━━━\u001b[0m\u001b[37m\u001b[0m \u001b[1m1s\u001b[0m 8ms/step - loss: 2.5302e-04 - mae: 0.0120 - val_loss: 2.5192e-04 - val_mae: 0.0123\n",
            "Epoch 10/50\n",
            "\u001b[1m103/103\u001b[0m \u001b[32m━━━━━━━━━━━━━━━━━━━━\u001b[0m\u001b[37m\u001b[0m \u001b[1m1s\u001b[0m 8ms/step - loss: 2.2832e-04 - mae: 0.0111 - val_loss: 2.5807e-04 - val_mae: 0.0125\n",
            "Epoch 11/50\n",
            "\u001b[1m103/103\u001b[0m \u001b[32m━━━━━━━━━━━━━━━━━━━━\u001b[0m\u001b[37m\u001b[0m \u001b[1m1s\u001b[0m 8ms/step - loss: 2.4907e-04 - mae: 0.0117 - val_loss: 3.1011e-04 - val_mae: 0.0140\n",
            "Epoch 12/50\n",
            "\u001b[1m103/103\u001b[0m \u001b[32m━━━━━━━━━━━━━━━━━━━━\u001b[0m\u001b[37m\u001b[0m \u001b[1m1s\u001b[0m 8ms/step - loss: 2.5856e-04 - mae: 0.0120 - val_loss: 3.7755e-04 - val_mae: 0.0157\n",
            "Epoch 13/50\n",
            "\u001b[1m103/103\u001b[0m \u001b[32m━━━━━━━━━━━━━━━━━━━━\u001b[0m\u001b[37m\u001b[0m \u001b[1m1s\u001b[0m 9ms/step - loss: 2.9377e-04 - mae: 0.0129 - val_loss: 2.5658e-04 - val_mae: 0.0125\n",
            "Epoch 14/50\n",
            "\u001b[1m103/103\u001b[0m \u001b[32m━━━━━━━━━━━━━━━━━━━━\u001b[0m\u001b[37m\u001b[0m \u001b[1m1s\u001b[0m 8ms/step - loss: 2.4977e-04 - mae: 0.0115 - val_loss: 2.3439e-04 - val_mae: 0.0120\n",
            "Epoch 15/50\n",
            "\u001b[1m103/103\u001b[0m \u001b[32m━━━━━━━━━━━━━━━━━━━━\u001b[0m\u001b[37m\u001b[0m \u001b[1m1s\u001b[0m 8ms/step - loss: 2.3409e-04 - mae: 0.0113 - val_loss: 2.5528e-04 - val_mae: 0.0125\n",
            "Epoch 16/50\n",
            "\u001b[1m103/103\u001b[0m \u001b[32m━━━━━━━━━━━━━━━━━━━━\u001b[0m\u001b[37m\u001b[0m \u001b[1m1s\u001b[0m 8ms/step - loss: 2.8916e-04 - mae: 0.0120 - val_loss: 2.6895e-04 - val_mae: 0.0129\n",
            "Epoch 17/50\n",
            "\u001b[1m103/103\u001b[0m \u001b[32m━━━━━━━━━━━━━━━━━━━━\u001b[0m\u001b[37m\u001b[0m \u001b[1m1s\u001b[0m 8ms/step - loss: 2.3770e-04 - mae: 0.0115 - val_loss: 2.6601e-04 - val_mae: 0.0127\n",
            "Epoch 18/50\n",
            "\u001b[1m103/103\u001b[0m \u001b[32m━━━━━━━━━━━━━━━━━━━━\u001b[0m\u001b[37m\u001b[0m \u001b[1m1s\u001b[0m 8ms/step - loss: 2.4778e-04 - mae: 0.0118 - val_loss: 2.4798e-04 - val_mae: 0.0122\n",
            "Epoch 19/50\n",
            "\u001b[1m103/103\u001b[0m \u001b[32m━━━━━━━━━━━━━━━━━━━━\u001b[0m\u001b[37m\u001b[0m \u001b[1m1s\u001b[0m 13ms/step - loss: 2.2934e-04 - mae: 0.0114 - val_loss: 2.4848e-04 - val_mae: 0.0123\n",
            "Epoch 20/50\n",
            "\u001b[1m103/103\u001b[0m \u001b[32m━━━━━━━━━━━━━━━━━━━━\u001b[0m\u001b[37m\u001b[0m \u001b[1m1s\u001b[0m 14ms/step - loss: 2.6376e-04 - mae: 0.0117 - val_loss: 2.7182e-04 - val_mae: 0.0129\n",
            "Epoch 21/50\n",
            "\u001b[1m103/103\u001b[0m \u001b[32m━━━━━━━━━━━━━━━━━━━━\u001b[0m\u001b[37m\u001b[0m \u001b[1m1s\u001b[0m 8ms/step - loss: 2.5231e-04 - mae: 0.0116 - val_loss: 2.5510e-04 - val_mae: 0.0125\n",
            "Epoch 22/50\n",
            "\u001b[1m103/103\u001b[0m \u001b[32m━━━━━━━━━━━━━━━━━━━━\u001b[0m\u001b[37m\u001b[0m \u001b[1m1s\u001b[0m 9ms/step - loss: 3.1995e-04 - mae: 0.0126 - val_loss: 3.2177e-04 - val_mae: 0.0141\n",
            "Epoch 23/50\n",
            "\u001b[1m103/103\u001b[0m \u001b[32m━━━━━━━━━━━━━━━━━━━━\u001b[0m\u001b[37m\u001b[0m \u001b[1m1s\u001b[0m 8ms/step - loss: 3.6007e-04 - mae: 0.0131 - val_loss: 2.8369e-04 - val_mae: 0.0132\n",
            "Epoch 24/50\n",
            "\u001b[1m103/103\u001b[0m \u001b[32m━━━━━━━━━━━━━━━━━━━━\u001b[0m\u001b[37m\u001b[0m \u001b[1m1s\u001b[0m 8ms/step - loss: 3.2292e-04 - mae: 0.0124 - val_loss: 2.9321e-04 - val_mae: 0.0135\n",
            "Epoch 25/50\n",
            "\u001b[1m103/103\u001b[0m \u001b[32m━━━━━━━━━━━━━━━━━━━━\u001b[0m\u001b[37m\u001b[0m \u001b[1m1s\u001b[0m 8ms/step - loss: 3.2331e-04 - mae: 0.0123 - val_loss: 2.8856e-04 - val_mae: 0.0132\n",
            "Epoch 26/50\n",
            "\u001b[1m103/103\u001b[0m \u001b[32m━━━━━━━━━━━━━━━━━━━━\u001b[0m\u001b[37m\u001b[0m \u001b[1m1s\u001b[0m 8ms/step - loss: 3.0714e-04 - mae: 0.0123 - val_loss: 2.7629e-04 - val_mae: 0.0131\n",
            "Epoch 27/50\n",
            "\u001b[1m103/103\u001b[0m \u001b[32m━━━━━━━━━━━━━━━━━━━━\u001b[0m\u001b[37m\u001b[0m \u001b[1m1s\u001b[0m 8ms/step - loss: 2.5295e-04 - mae: 0.0114 - val_loss: 2.7499e-04 - val_mae: 0.0130\n",
            "Epoch 28/50\n",
            "\u001b[1m103/103\u001b[0m \u001b[32m━━━━━━━━━━━━━━━━━━━━\u001b[0m\u001b[37m\u001b[0m \u001b[1m1s\u001b[0m 8ms/step - loss: 2.5568e-04 - mae: 0.0115 - val_loss: 2.6092e-04 - val_mae: 0.0126\n",
            "Epoch 29/50\n",
            "\u001b[1m103/103\u001b[0m \u001b[32m━━━━━━━━━━━━━━━━━━━━\u001b[0m\u001b[37m\u001b[0m \u001b[1m2s\u001b[0m 12ms/step - loss: 3.2882e-04 - mae: 0.0120 - val_loss: 4.2541e-04 - val_mae: 0.0169\n",
            "Epoch 30/50\n",
            "\u001b[1m103/103\u001b[0m \u001b[32m━━━━━━━━━━━━━━━━━━━━\u001b[0m\u001b[37m\u001b[0m \u001b[1m2s\u001b[0m 9ms/step - loss: 2.9631e-04 - mae: 0.0126 - val_loss: 2.4974e-04 - val_mae: 0.0124\n",
            "Epoch 31/50\n",
            "\u001b[1m103/103\u001b[0m \u001b[32m━━━━━━━━━━━━━━━━━━━━\u001b[0m\u001b[37m\u001b[0m \u001b[1m1s\u001b[0m 8ms/step - loss: 2.2933e-04 - mae: 0.0112 - val_loss: 2.4298e-04 - val_mae: 0.0122\n",
            "Epoch 32/50\n",
            "\u001b[1m103/103\u001b[0m \u001b[32m━━━━━━━━━━━━━━━━━━━━\u001b[0m\u001b[37m\u001b[0m \u001b[1m1s\u001b[0m 8ms/step - loss: 2.3449e-04 - mae: 0.0115 - val_loss: 2.4505e-04 - val_mae: 0.0122\n",
            "Epoch 33/50\n",
            "\u001b[1m103/103\u001b[0m \u001b[32m━━━━━━━━━━━━━━━━━━━━\u001b[0m\u001b[37m\u001b[0m \u001b[1m1s\u001b[0m 8ms/step - loss: 2.4345e-04 - mae: 0.0117 - val_loss: 2.4560e-04 - val_mae: 0.0122\n",
            "Epoch 34/50\n",
            "\u001b[1m103/103\u001b[0m \u001b[32m━━━━━━━━━━━━━━━━━━━━\u001b[0m\u001b[37m\u001b[0m \u001b[1m1s\u001b[0m 8ms/step - loss: 2.4975e-04 - mae: 0.0111 - val_loss: 2.3788e-04 - val_mae: 0.0121\n",
            "Epoch 35/50\n",
            "\u001b[1m103/103\u001b[0m \u001b[32m━━━━━━━━━━━━━━━━━━━━\u001b[0m\u001b[37m\u001b[0m \u001b[1m1s\u001b[0m 8ms/step - loss: 3.3330e-04 - mae: 0.0120 - val_loss: 2.5443e-04 - val_mae: 0.0124\n",
            "Epoch 36/50\n",
            "\u001b[1m103/103\u001b[0m \u001b[32m━━━━━━━━━━━━━━━━━━━━\u001b[0m\u001b[37m\u001b[0m \u001b[1m1s\u001b[0m 9ms/step - loss: 2.4766e-04 - mae: 0.0114 - val_loss: 2.3737e-04 - val_mae: 0.0120\n",
            "Epoch 37/50\n",
            "\u001b[1m103/103\u001b[0m \u001b[32m━━━━━━━━━━━━━━━━━━━━\u001b[0m\u001b[37m\u001b[0m \u001b[1m1s\u001b[0m 8ms/step - loss: 2.3729e-04 - mae: 0.0117 - val_loss: 3.1397e-04 - val_mae: 0.0141\n",
            "Epoch 38/50\n",
            "\u001b[1m103/103\u001b[0m \u001b[32m━━━━━━━━━━━━━━━━━━━━\u001b[0m\u001b[37m\u001b[0m \u001b[1m1s\u001b[0m 8ms/step - loss: 2.8415e-04 - mae: 0.0120 - val_loss: 2.3868e-04 - val_mae: 0.0120\n",
            "Epoch 39/50\n",
            "\u001b[1m103/103\u001b[0m \u001b[32m━━━━━━━━━━━━━━━━━━━━\u001b[0m\u001b[37m\u001b[0m \u001b[1m1s\u001b[0m 12ms/step - loss: 2.2676e-04 - mae: 0.0112 - val_loss: 2.4618e-04 - val_mae: 0.0123\n",
            "Epoch 40/50\n",
            "\u001b[1m103/103\u001b[0m \u001b[32m━━━━━━━━━━━━━━━━━━━━\u001b[0m\u001b[37m\u001b[0m \u001b[1m1s\u001b[0m 12ms/step - loss: 2.0734e-04 - mae: 0.0111 - val_loss: 2.3075e-04 - val_mae: 0.0118\n",
            "Epoch 41/50\n",
            "\u001b[1m103/103\u001b[0m \u001b[32m━━━━━━━━━━━━━━━━━━━━\u001b[0m\u001b[37m\u001b[0m \u001b[1m2s\u001b[0m 8ms/step - loss: 2.2861e-04 - mae: 0.0111 - val_loss: 2.7016e-04 - val_mae: 0.0129\n",
            "Epoch 42/50\n",
            "\u001b[1m103/103\u001b[0m \u001b[32m━━━━━━━━━━━━━━━━━━━━\u001b[0m\u001b[37m\u001b[0m \u001b[1m1s\u001b[0m 8ms/step - loss: 2.6149e-04 - mae: 0.0112 - val_loss: 2.2901e-04 - val_mae: 0.0118\n",
            "Epoch 43/50\n",
            "\u001b[1m103/103\u001b[0m \u001b[32m━━━━━━━━━━━━━━━━━━━━\u001b[0m\u001b[37m\u001b[0m \u001b[1m1s\u001b[0m 8ms/step - loss: 2.0874e-04 - mae: 0.0110 - val_loss: 2.4354e-04 - val_mae: 0.0123\n",
            "Epoch 44/50\n",
            "\u001b[1m103/103\u001b[0m \u001b[32m━━━━━━━━━━━━━━━━━━━━\u001b[0m\u001b[37m\u001b[0m \u001b[1m1s\u001b[0m 8ms/step - loss: 2.0895e-04 - mae: 0.0110 - val_loss: 2.5211e-04 - val_mae: 0.0125\n",
            "Epoch 45/50\n",
            "\u001b[1m103/103\u001b[0m \u001b[32m━━━━━━━━━━━━━━━━━━━━\u001b[0m\u001b[37m\u001b[0m \u001b[1m1s\u001b[0m 9ms/step - loss: 2.0937e-04 - mae: 0.0107 - val_loss: 2.4815e-04 - val_mae: 0.0123\n",
            "Epoch 46/50\n",
            "\u001b[1m103/103\u001b[0m \u001b[32m━━━━━━━━━━━━━━━━━━━━\u001b[0m\u001b[37m\u001b[0m \u001b[1m1s\u001b[0m 9ms/step - loss: 2.4624e-04 - mae: 0.0115 - val_loss: 2.3107e-04 - val_mae: 0.0119\n",
            "Epoch 47/50\n",
            "\u001b[1m103/103\u001b[0m \u001b[32m━━━━━━━━━━━━━━━━━━━━\u001b[0m\u001b[37m\u001b[0m \u001b[1m1s\u001b[0m 8ms/step - loss: 2.0256e-04 - mae: 0.0108 - val_loss: 3.1278e-04 - val_mae: 0.0138\n",
            "Epoch 48/50\n",
            "\u001b[1m103/103\u001b[0m \u001b[32m━━━━━━━━━━━━━━━━━━━━\u001b[0m\u001b[37m\u001b[0m \u001b[1m1s\u001b[0m 9ms/step - loss: 2.4712e-04 - mae: 0.0117 - val_loss: 2.3709e-04 - val_mae: 0.0120\n",
            "Epoch 49/50\n",
            "\u001b[1m103/103\u001b[0m \u001b[32m━━━━━━━━━━━━━━━━━━━━\u001b[0m\u001b[37m\u001b[0m \u001b[1m2s\u001b[0m 13ms/step - loss: 2.2121e-04 - mae: 0.0109 - val_loss: 2.6907e-04 - val_mae: 0.0130\n",
            "Epoch 50/50\n",
            "\u001b[1m103/103\u001b[0m \u001b[32m━━━━━━━━━━━━━━━━━━━━\u001b[0m\u001b[37m\u001b[0m \u001b[1m1s\u001b[0m 12ms/step - loss: 2.2923e-04 - mae: 0.0112 - val_loss: 2.4448e-04 - val_mae: 0.0123\n",
            "\u001b[1m18/18\u001b[0m \u001b[32m━━━━━━━━━━━━━━━━━━━━\u001b[0m\u001b[37m\u001b[0m \u001b[1m1s\u001b[0m 21ms/step\n",
            "Mean Absolute Error (MAE): 0.01234181980579726\n",
            "Mean Squared Error (MSE): 0.00024447535089261923\n"
          ]
        }
      ]
    },
    {
      "cell_type": "markdown",
      "source": [
        "# Plotting true values and the predicted ones"
      ],
      "metadata": {
        "id": "FkFORO1lTzFL"
      }
    },
    {
      "cell_type": "code",
      "source": [
        "import matplotlib.pyplot as plt\n",
        "import pandas as pd\n",
        "\n",
        "y_pred = model.predict(X_test)\n",
        "# Full actual change series starting from 2020\n",
        "actual_full = appl_data['Change']\n",
        "actual_full = actual_full[actual_full.index >= \"2020-01-01\"]\n",
        "\n",
        "print(actual_full.tail(4))\n",
        "\n",
        "test_len = len(y_test)\n",
        "test_change = appl_data['Change'].iloc[-test_len:]\n",
        "test_dates = test_change.index\n",
        "\n",
        "predicted = pd.Series(y_pred.flatten(), index=test_dates)\n",
        "\n",
        "# Plot\n",
        "plt.figure(figsize=(14, 6))\n",
        "plt.plot(actual_full, label='Actual tock 5 Day (2020–Present)', color='blue')\n",
        "plt.plot(predicted, label='Predicted Change (Test Set)', color='orange')\n",
        "\n",
        "plt.title(\"Stock 5 Day Change – Actual vs Predicted\")\n",
        "plt.xlabel(\"Date\")\n",
        "plt.ylabel(\"5 Day Change\")\n",
        "plt.legend()\n",
        "plt.grid(True)\n",
        "plt.tight_layout()\n",
        "plt.show()"
      ],
      "metadata": {
        "colab": {
          "base_uri": "https://localhost:8080/",
          "height": 729
        },
        "id": "PLMp-bwVchQb",
        "outputId": "67f5869c-c136-4f38-da49-ad4252676462",
        "collapsed": true
      },
      "execution_count": 110,
      "outputs": [
        {
          "output_type": "stream",
          "name": "stdout",
          "text": [
            "\u001b[1m18/18\u001b[0m \u001b[32m━━━━━━━━━━━━━━━━━━━━\u001b[0m\u001b[37m\u001b[0m \u001b[1m0s\u001b[0m 3ms/step \n",
            "Date\n",
            "2025-04-08   -0.054550\n",
            "2025-04-09   -0.041161\n",
            "2025-04-10   -0.027826\n",
            "2025-04-11    0.024914\n",
            "Name: Change, dtype: float64\n"
          ]
        },
        {
          "output_type": "display_data",
          "data": {
            "text/plain": [
              "<Figure size 1400x600 with 1 Axes>"
            ],
            "image/png": "[encoded data removed]"
          },
          "metadata": {}
        }
      ]
    },
    {
      "cell_type": "markdown",
      "source": [
        "# R^2 metric"
      ],
      "metadata": {
        "id": "YYT32EEPT7Hr"
      }
    },
    {
      "cell_type": "code",
      "source": [
        "from sklearn.metrics import r2_score\n",
        "r2 = r2_score(y_test, y_pred)\n",
        "print(f\"R² Score: {r2:.3f}\")"
      ],
      "metadata": {
        "id": "9AvfYP00wpuD",
        "colab": {
          "base_uri": "https://localhost:8080/"
        },
        "outputId": "60e609ef-5be3-440f-bc8c-3eaaffa986f6"
      },
      "execution_count": 111,
      "outputs": [
        {
          "output_type": "stream",
          "name": "stdout",
          "text": [
            "R² Score: 0.644\n"
          ]
        }
      ]
    },
    {
      "cell_type": "markdown",
      "source": [
        "# Classifying Stock Moves into Drop/Flat/Rise & Measuring Accuracy"
      ],
      "metadata": {
        "id": "JEsBs0IgbPkb"
      }
    },
    {
      "cell_type": "code",
      "source": [
        "\n",
        "bins = [-np.inf, -0.01, 0.01, np.inf]\n",
        "labels = [0, 1, 2]  # 0 = drop, 1 = flat, 2 = rise\n",
        "y_test_bins = pd.cut(y_test, bins=bins, labels=labels)\n",
        "y_pred_bins = pd.cut(y_pred.flatten(), bins=bins, labels=labels)\n",
        "\n",
        "actual_counts = y_test_bins.value_counts().sort_index()\n",
        "predicted_counts = y_pred_bins.value_counts().sort_index()\n",
        "\n",
        "from sklearn.metrics import accuracy_score\n",
        "acc = accuracy_score(y_test_bins, y_pred_bins)\n",
        "\n",
        "print(f\"Binned Accuracy: {acc:.2%}\")"
      ],
      "metadata": {
        "colab": {
          "base_uri": "https://localhost:8080/"
        },
        "id": "izymowlnckTI",
        "outputId": "ac29d511-a656-4f32-d085-496b35bdac49"
      },
      "execution_count": 112,
      "outputs": [
        {
          "output_type": "stream",
          "name": "stdout",
          "text": [
            "Binned Accuracy: 64.73%\n"
          ]
        }
      ]
    },
    {
      "cell_type": "markdown",
      "source": [
        "# Testing code for 5 day prediction from today"
      ],
      "metadata": {
        "id": "CGhXFO_KeWBB"
      }
    },
    {
      "cell_type": "markdown",
      "source": [
        "idk if this is right"
      ],
      "metadata": {
        "id": "NNSUb07KhY9T"
      }
    },
    {
      "cell_type": "code",
      "source": [
        "# 1. Define THE SAME features used in training (copy-pasted from your code)\n",
        "features = ['Close', 'Change', 'SMA', 'RSI', 'Volatility', 'Momentum']\n",
        "\n",
        "# 2. Get last 5 days (WITH ALL 6 FEATURES)\n",
        "last_5_days = appl_data[features].dropna().tail(5)\n",
        "\n",
        "scaled_data = scaler.transform(last_5_days)  # Uses same 6-feature scaler\n",
        "\n",
        "# 4. Reshape for LSTM (1, 5, 6)\n",
        "X_pred = scaled_data.reshape(1, 5, 6)  # 1 batch, 5 timesteps, 6 features\n",
        "\n",
        "# 5. Predict\n",
        "predicted_change = model.predict(X_pred, verbose=0)[0][0]\n",
        "print(f\"Predicted 5-day change: {predicted_change:.2%}\")"
      ],
      "metadata": {
        "id": "NSx7otwAu8FQ",
        "colab": {
          "base_uri": "https://localhost:8080/"
        },
        "outputId": "6f0e7e46-0839-42c0-e453-2167045fe307"
      },
      "execution_count": 113,
      "outputs": [
        {
          "output_type": "stream",
          "name": "stdout",
          "text": [
            "Predicted 5-day change: 3.25%\n"
          ]
        }
      ]
    }
  ]
}